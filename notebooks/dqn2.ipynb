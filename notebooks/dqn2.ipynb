{
 "cells": [
  {
   "cell_type": "code",
   "execution_count": 8,
   "outputs": [],
   "source": [
    "# !apt-get -y install swig\n",
    "# !pip install -r../requirements.txt"
   ],
   "metadata": {
    "collapsed": false,
    "ExecuteTime": {
     "end_time": "2023-08-22T20:31:17.196003200Z",
     "start_time": "2023-08-22T20:31:16.455675900Z"
    }
   },
   "id": "initial_id"
  },
  {
   "cell_type": "code",
   "execution_count": 9,
   "outputs": [],
   "source": [
    "%reload_ext autoreload\n",
    "%autoreload 1\n",
    "%aimport lib2"
   ],
   "metadata": {
    "collapsed": false,
    "ExecuteTime": {
     "end_time": "2023-08-22T20:31:17.206936400Z",
     "start_time": "2023-08-22T20:31:16.685962700Z"
    }
   },
   "id": "7133a8acc04f3143"
  },
  {
   "cell_type": "code",
   "execution_count": 10,
   "outputs": [],
   "source": [
    "from pathlib import Path\n",
    "\n",
    "import gymnasium as gym\n",
    "import more_itertools\n",
    "import numpy as np\n",
    "import tensorflow as tf\n",
    "\n",
    "from lib2 import DQN, store_dqn_images"
   ],
   "metadata": {
    "collapsed": false,
    "ExecuteTime": {
     "end_time": "2023-08-22T20:31:17.206936400Z",
     "start_time": "2023-08-22T20:31:16.954301600Z"
    }
   },
   "id": "eb2eab9c1876e067"
  },
  {
   "cell_type": "code",
   "execution_count": 11,
   "outputs": [
    {
     "name": "stdout",
     "output_type": "stream",
     "text": [
      "[-0.00349398  1.3995354  -0.35391772 -0.50598943  0.00405544  0.08016767\n",
      "  0.          0.        ]\n",
      "{}\n"
     ]
    }
   ],
   "source": [
    "env = gym.make(\"LunarLander-v2\", render_mode=\"rgb_array\")\n",
    "observation, info = env.reset()\n",
    "print(observation)\n",
    "print(info)"
   ],
   "metadata": {
    "collapsed": false,
    "ExecuteTime": {
     "end_time": "2023-08-22T20:31:17.209973500Z",
     "start_time": "2023-08-22T20:31:16.963671100Z"
    }
   },
   "id": "e9628c39cb6b9e46"
  },
  {
   "cell_type": "code",
   "execution_count": 12,
   "outputs": [],
   "source": [
    "dqn = DQN(env)"
   ],
   "metadata": {
    "collapsed": false,
    "ExecuteTime": {
     "end_time": "2023-08-22T20:31:17.210928500Z",
     "start_time": "2023-08-22T20:31:16.988627300Z"
    }
   },
   "id": "53cb6c88cf930aa9"
  },
  {
   "cell_type": "code",
   "execution_count": 13,
   "outputs": [],
   "source": [
    "# load_model_name = \"dqn_12_layers\"\n",
    "# unarchive(Path(f\"{load_model_name}.zip\"))\n",
    "# dqn.q_network.load_weights(load_model_name)"
   ],
   "metadata": {
    "collapsed": false,
    "ExecuteTime": {
     "end_time": "2023-08-22T20:31:17.210928500Z",
     "start_time": "2023-08-22T20:31:17.168065300Z"
    }
   },
   "id": "278ff13f644b9bca"
  },
  {
   "cell_type": "code",
   "execution_count": 14,
   "outputs": [
    {
     "data": {
      "text/plain": "<tensorflow.python.checkpoint.checkpoint.CheckpointLoadStatus at 0x1fd4951f250>"
     },
     "execution_count": 14,
     "metadata": {},
     "output_type": "execute_result"
    }
   ],
   "source": [
    "dqn.q_network.load_weights('../checkpoints/dqn_extended_1')"
   ],
   "metadata": {
    "collapsed": false,
    "ExecuteTime": {
     "end_time": "2023-08-22T20:31:17.337573800Z",
     "start_time": "2023-08-22T20:31:17.174934900Z"
    }
   },
   "id": "415c65965e09511e"
  },
  {
   "cell_type": "code",
   "execution_count": 15,
   "outputs": [
    {
     "name": "stdout",
     "output_type": "stream",
     "text": [
      "Episode 0 ended after 155 iterations: terminated\n"
     ]
    }
   ],
   "source": [
    "transitions = dqn.play_one_episode(render_frames=True)"
   ],
   "metadata": {
    "collapsed": false,
    "ExecuteTime": {
     "end_time": "2023-08-22T20:31:18.869440800Z",
     "start_time": "2023-08-22T20:31:17.231538900Z"
    }
   },
   "id": "3d3806f63f81c8ab"
  },
  {
   "cell_type": "code",
   "execution_count": 16,
   "outputs": [],
   "source": [
    "# frames_path = \"../tmp/dqn_extended_1/frames.gif\"\n",
    "# frames_to_gif_file([t.frame for t in transitions], frames_path)"
   ],
   "metadata": {
    "collapsed": false,
    "ExecuteTime": {
     "end_time": "2023-08-22T20:31:18.869440800Z",
     "start_time": "2023-08-22T20:31:18.822866200Z"
    }
   },
   "id": "889c44176e94d0e8"
  },
  {
   "cell_type": "code",
   "execution_count": 17,
   "outputs": [],
   "source": [
    "# ![frames](../tmp/dqn_extended_1/frames.gif)"
   ],
   "metadata": {
    "collapsed": false,
    "ExecuteTime": {
     "end_time": "2023-08-22T20:31:18.905046400Z",
     "start_time": "2023-08-22T20:31:18.833657200Z"
    }
   },
   "id": "89f4580ad5d989d9"
  },
  {
   "cell_type": "code",
   "execution_count": 18,
   "outputs": [],
   "source": [
    "iterator = dqn.learn(render_period=5, learning_period=100, max_learning_batch_size=500,\n",
    "                     epsilon=0.03, gamma=0.97)"
   ],
   "metadata": {
    "collapsed": false,
    "ExecuteTime": {
     "end_time": "2023-08-22T20:31:18.949049700Z",
     "start_time": "2023-08-22T20:31:18.849533900Z"
    }
   },
   "id": "cd2db076ec21f1f0"
  },
  {
   "cell_type": "code",
   "execution_count": 19,
   "outputs": [],
   "source": [
    "storing_images_iterator = map(lambda x: store_dqn_images(x[0], x[1], Path('../tmp/dqn_extended_2/frames')), iterator)"
   ],
   "metadata": {
    "collapsed": false,
    "ExecuteTime": {
     "end_time": "2023-08-22T20:31:18.952056300Z",
     "start_time": "2023-08-22T20:31:18.866431Z"
    }
   },
   "id": "30f9d101776204c1"
  },
  {
   "cell_type": "code",
   "execution_count": null,
   "outputs": [
    {
     "name": "stdout",
     "output_type": "stream",
     "text": [
      "Episode 0\n",
      "Random action: 3\n",
      "Random action: 3\n",
      "Random action: 2\n",
      "Random action: 2\n",
      "batch_size: 40\n",
      "2/2 [==============================] - 0s 4ms/step\n",
      "1/1 [==============================] - 3s 3s/step - loss: 2.1156\n",
      "Random action: 1\n",
      "Random action: 1\n",
      "batch_size: 60\n",
      "2/2 [==============================] - 0s 3ms/step\n",
      "1/1 [==============================] - 0s 15ms/step - loss: 1.0050\n",
      "Random action: 2\n",
      "Random action: 3\n",
      "batch_size: 80\n",
      "3/3 [==============================] - 0s 3ms/step\n",
      "1/1 [==============================] - 0s 13ms/step - loss: 0.6081\n",
      "Random action: 1\n",
      "Random action: 2\n",
      "Episode 0 ended after 288 iterations: terminated\n",
      "Episode 1\n",
      "Random action: 1\n",
      "Random action: 1\n",
      "batch_size: 100\n",
      "4/4 [==============================] - 0s 3ms/step\n",
      "1/1 [==============================] - 0s 17ms/step - loss: 8.9919\n",
      "Random action: 0\n",
      "Episode 1 ended after 133 iterations: terminated\n",
      "Episode 2\n",
      "Random action: 0\n",
      "Random action: 3\n",
      "batch_size: 120\n",
      "4/4 [==============================] - 0s 3ms/step\n",
      "1/1 [==============================] - 0s 16ms/step - loss: 1.5217\n",
      "Random action: 2\n",
      "Random action: 2\n",
      "Random action: 1\n",
      "Random action: 3\n",
      "batch_size: 140\n",
      "5/5 [==============================] - 0s 3ms/step\n",
      "1/1 [==============================] - 0s 20ms/step - loss: 5.1380\n",
      "Episode 2 ended after 156 iterations: terminated\n",
      "Episode 3\n",
      "Random action: 2\n",
      "Random action: 2\n",
      "Random action: 0\n",
      "Random action: 2\n",
      "Random action: 1\n",
      "batch_size: 160\n",
      "5/5 [==============================] - 0s 3ms/step\n",
      "1/1 [==============================] - 0s 17ms/step - loss: 2.2768\n",
      "Random action: 3\n",
      "Random action: 3\n",
      "batch_size: 180\n",
      "6/6 [==============================] - 0s 2ms/step\n",
      "1/1 [==============================] - 0s 19ms/step - loss: 1.8522\n",
      "Random action: 0\n",
      "Episode 3 ended after 238 iterations: terminated\n",
      "Episode 4\n",
      "Random action: 2\n",
      "Random action: 2\n",
      "batch_size: 200\n",
      "7/7 [==============================] - 0s 3ms/step\n",
      "1/1 [==============================] - 0s 18ms/step - loss: 5.4466\n",
      "Random action: 2\n",
      "batch_size: 220\n",
      "7/7 [==============================] - 0s 3ms/step\n",
      "1/1 [==============================] - 0s 22ms/step - loss: 4.7874\n",
      "Episode 4 ended after 140 iterations: terminated\n",
      "Episode 5\n",
      "Random action: 0\n",
      "Random action: 0\n",
      "Random action: 0\n",
      "batch_size: 240\n",
      "8/8 [==============================] - 0s 3ms/step\n",
      "1/1 [==============================] - 0s 23ms/step - loss: 2.4429\n",
      "Random action: 2\n",
      "Episode 5 ended after 161 iterations: terminated\n",
      "Episode 6\n",
      "Random action: 3\n",
      "batch_size: 260\n",
      "9/9 [==============================] - 0s 3ms/step\n",
      "1/1 [==============================] - 0s 21ms/step - loss: 1.2706\n",
      "Random action: 3\n",
      "Random action: 0\n",
      "Random action: 1\n",
      "Random action: 0\n",
      "Episode 6 ended after 119 iterations: terminated\n",
      "Episode 7\n",
      "batch_size: 280\n",
      "9/9 [==============================] - 0s 3ms/step\n",
      "1/1 [==============================] - 0s 26ms/step - loss: 3.2681\n",
      "Random action: 3\n",
      "Episode 7 ended after 72 iterations: terminated\n",
      "Episode 8\n",
      "Random action: 0\n",
      "Random action: 3\n",
      "Random action: 0\n",
      "Random action: 0\n",
      "batch_size: 300\n",
      "10/10 [==============================] - 0s 3ms/step\n",
      "1/1 [==============================] - 0s 27ms/step - loss: 1.9891\n",
      "batch_size: 320\n",
      "10/10 [==============================] - 0s 3ms/step\n",
      "1/1 [==============================] - 0s 24ms/step - loss: 6.4204\n",
      "Episode 8 ended after 155 iterations: terminated\n",
      "Episode 9\n",
      "Random action: 0\n",
      "Episode 9 ended after 78 iterations: terminated\n",
      "Episode 10\n",
      "batch_size: 340\n",
      "11/11 [==============================] - 0s 3ms/step\n",
      "1/1 [==============================] - 0s 25ms/step - loss: 6.0408\n",
      "Random action: 2\n",
      "Random action: 3\n",
      "Random action: 0\n",
      "Random action: 1\n",
      "batch_size: 360\n",
      "12/12 [==============================] - 0s 3ms/step\n",
      "1/1 [==============================] - 0s 31ms/step - loss: 4.9844\n",
      "Random action: 1\n",
      "Episode 10 ended after 215 iterations: terminated\n",
      "Episode 11\n",
      "batch_size: 380\n",
      "12/12 [==============================] - 0s 3ms/step\n",
      "1/1 [==============================] - 0s 25ms/step - loss: 3.8454\n",
      "Random action: 2\n",
      "Random action: 3\n",
      "batch_size: 400\n",
      "13/13 [==============================] - 0s 3ms/step\n",
      "1/1 [==============================] - 0s 27ms/step - loss: 4.5201\n",
      "Random action: 1\n",
      "Random action: 3\n",
      "Episode 11 ended after 191 iterations: terminated\n",
      "Episode 12\n",
      "batch_size: 420\n",
      "14/14 [==============================] - 0s 3ms/step\n",
      "1/1 [==============================] - 0s 32ms/step - loss: 2.9300\n",
      "Random action: 3\n",
      "Random action: 2\n",
      "Random action: 2\n",
      "Random action: 1\n",
      "Random action: 1\n",
      "batch_size: 440\n",
      "14/14 [==============================] - 0s 2ms/step\n",
      "1/1 [==============================] - 0s 25ms/step - loss: 3.7959\n",
      "Random action: 1\n",
      "Random action: 2\n",
      "Episode 12 ended after 132 iterations: terminated\n",
      "Episode 13\n",
      "Random action: 3\n",
      "Random action: 3\n",
      "batch_size: 460\n",
      "15/15 [==============================] - 0s 3ms/step\n",
      "1/1 [==============================] - 0s 31ms/step - loss: 1.2647\n",
      "Random action: 3\n",
      "Random action: 1\n",
      "Random action: 3\n",
      "batch_size: 480\n",
      "15/15 [==============================] - 0s 3ms/step\n",
      "1/1 [==============================] - 0s 27ms/step - loss: 2.5999\n",
      "Random action: 0\n",
      "Random action: 3\n",
      "batch_size: 500\n",
      "16/16 [==============================] - 0s 3ms/step\n",
      "1/1 [==============================] - 0s 29ms/step - loss: 3.4079\n",
      "Random action: 1\n",
      "Random action: 1\n",
      "Random action: 2\n",
      "Random action: 1\n",
      "Random action: 0\n",
      "Random action: 2\n",
      "Random action: 0\n",
      "Random action: 0\n",
      "batch_size: 500\n",
      "16/16 [==============================] - 0s 3ms/step\n",
      "1/1 [==============================] - 0s 37ms/step - loss: 1.7377\n",
      "Random action: 2\n",
      "Random action: 3\n",
      "Random action: 2\n",
      "batch_size: 500\n",
      "16/16 [==============================] - 0s 3ms/step\n",
      "1/1 [==============================] - 0s 29ms/step - loss: 2.7091\n",
      "Episode 13 ended after 485 iterations: terminated\n",
      "Episode 14\n",
      "Random action: 2\n",
      "Random action: 2\n",
      "Random action: 1\n",
      "Random action: 0\n",
      "batch_size: 500\n",
      "16/16 [==============================] - 0s 3ms/step\n",
      "1/1 [==============================] - 0s 29ms/step - loss: 4.7376\n",
      "Random action: 0\n",
      "Random action: 0\n",
      "Random action: 2\n",
      "batch_size: 500\n",
      "16/16 [==============================] - 0s 3ms/step\n",
      "1/1 [==============================] - 0s 28ms/step - loss: 1.2031\n",
      "Random action: 0\n",
      "Random action: 2\n",
      "Random action: 1\n",
      "batch_size: 500\n",
      "16/16 [==============================] - 0s 3ms/step\n",
      "1/1 [==============================] - 0s 27ms/step - loss: 3.1011\n",
      "Random action: 0\n",
      "Random action: 2\n",
      "Random action: 1\n",
      "batch_size: 500\n",
      "16/16 [==============================] - 0s 3ms/step\n",
      "1/1 [==============================] - 0s 27ms/step - loss: 1.7128\n",
      "Random action: 0\n",
      "batch_size: 500\n",
      "16/16 [==============================] - 0s 3ms/step\n",
      "1/1 [==============================] - 0s 27ms/step - loss: 1.4346\n",
      "Random action: 1\n",
      "Random action: 0\n",
      "Random action: 3\n",
      "Random action: 3\n",
      "Random action: 3\n",
      "batch_size: 500\n",
      "16/16 [==============================] - 0s 3ms/step\n",
      "1/1 [==============================] - 0s 27ms/step - loss: 2.7741\n",
      "Random action: 1\n",
      "Random action: 0\n",
      "Random action: 2\n",
      "Random action: 3\n",
      "Random action: 1\n",
      "batch_size: 500\n",
      "16/16 [==============================] - 0s 3ms/step\n",
      "1/1 [==============================] - 0s 30ms/step - loss: 3.5938\n",
      "Random action: 0\n",
      "Random action: 2\n",
      "Random action: 3\n",
      "Random action: 1\n",
      "Episode 14 ended after 759 iterations: terminated\n",
      "Episode 15\n",
      "batch_size: 500\n",
      "16/16 [==============================] - 0s 3ms/step\n",
      "1/1 [==============================] - 0s 29ms/step - loss: 3.0261\n",
      "Random action: 0\n",
      "Random action: 0\n",
      "Random action: 0\n",
      "Random action: 1\n",
      "Random action: 0\n",
      "Random action: 2\n",
      "batch_size: 500\n",
      "16/16 [==============================] - 0s 3ms/step\n",
      "1/1 [==============================] - 0s 34ms/step - loss: 5.3702\n",
      "Random action: 0\n",
      "Random action: 2\n",
      "batch_size: 500\n",
      "16/16 [==============================] - 0s 2ms/step\n",
      "1/1 [==============================] - 0s 27ms/step - loss: 2.2716\n",
      "Random action: 2\n",
      "Random action: 1\n",
      "Random action: 2\n",
      "Random action: 1\n",
      "batch_size: 500\n",
      "16/16 [==============================] - 0s 3ms/step\n",
      "1/1 [==============================] - 0s 33ms/step - loss: 1.3589\n",
      "Random action: 0\n",
      "batch_size: 500\n",
      "16/16 [==============================] - 0s 3ms/step\n",
      "1/1 [==============================] - 0s 32ms/step - loss: 3.2386\n",
      "Random action: 0\n",
      "Random action: 1\n",
      "batch_size: 500\n",
      "16/16 [==============================] - 0s 2ms/step\n",
      "1/1 [==============================] - 0s 32ms/step - loss: 2.5531\n",
      "Episode 15 ended after 581 iterations: terminated\n",
      "Episode 16\n",
      "Random action: 0\n",
      "Random action: 1\n",
      "batch_size: 500\n",
      "16/16 [==============================] - 0s 2ms/step\n",
      "1/1 [==============================] - 0s 34ms/step - loss: 1.8465\n",
      "Random action: 1\n",
      "Random action: 1\n",
      "Random action: 0\n",
      "Random action: 0\n",
      "Random action: 1\n",
      "batch_size: 500\n",
      "16/16 [==============================] - 0s 3ms/step\n",
      "1/1 [==============================] - 0s 26ms/step - loss: 3.3231\n",
      "Random action: 0\n",
      "Random action: 1\n",
      "Random action: 3\n",
      "Random action: 3\n",
      "Random action: 1\n",
      "Random action: 3\n",
      "batch_size: 500\n",
      "16/16 [==============================] - 0s 3ms/step\n",
      "1/1 [==============================] - 0s 26ms/step - loss: 2.7485\n",
      "Random action: 0\n",
      "Random action: 2\n",
      "Episode 16 ended after 337 iterations: terminated\n",
      "Episode 17\n",
      "batch_size: 500\n",
      "16/16 [==============================] - 0s 2ms/step\n",
      "1/1 [==============================] - 0s 30ms/step - loss: 3.5190\n",
      "Random action: 0\n",
      "Random action: 3\n",
      "batch_size: 500\n",
      "16/16 [==============================] - 0s 2ms/step\n",
      "1/1 [==============================] - 0s 30ms/step - loss: 1.8410\n",
      "Episode 17 ended after 164 iterations: terminated\n",
      "Episode 18\n"
     ]
    }
   ],
   "source": [
    "more_itertools.consume(storing_images_iterator, 100 + 1)"
   ],
   "metadata": {
    "collapsed": false,
    "is_executing": true,
    "ExecuteTime": {
     "start_time": "2023-08-22T20:31:18.883050400Z"
    }
   },
   "id": "e7fa9cb17f530a6b"
  },
  {
   "cell_type": "code",
   "execution_count": null,
   "outputs": [],
   "source": [
    "# dqn.q_network.save('../checkpoints/dqn_extended_1')"
   ],
   "metadata": {
    "collapsed": false,
    "is_executing": true
   },
   "id": "394713673cb0f7b4"
  },
  {
   "cell_type": "code",
   "execution_count": null,
   "outputs": [],
   "source": [
    "all_transitions = dqn.all_transitions"
   ],
   "metadata": {
    "collapsed": false,
    "is_executing": true
   },
   "id": "5b3c9c5f77c54e64"
  },
  {
   "cell_type": "code",
   "execution_count": null,
   "outputs": [],
   "source": [
    "len(all_transitions)"
   ],
   "metadata": {
    "collapsed": false,
    "is_executing": true
   },
   "id": "f09c23b086d0db6d"
  },
  {
   "cell_type": "code",
   "execution_count": null,
   "outputs": [],
   "source": [
    "# import pickle\n",
    "# import os\n",
    "# \n",
    "# os.makedirs(\"../pickle\", exist_ok=True)\n",
    "# with open(\"../pickle/dqn_extended_2\", \"wb\") as f:\n",
    "#     pickle.dump(all_transitions, f)"
   ],
   "metadata": {
    "collapsed": false,
    "is_executing": true
   },
   "id": "66274ce280a90f1f"
  },
  {
   "cell_type": "code",
   "execution_count": null,
   "outputs": [],
   "source": [
    "p = tf.math.log(tf.math.softmax([t.reward for t in all_transitions])).numpy().astype(np.float32)\n",
    "sorted(p, reverse=True)"
   ],
   "metadata": {
    "collapsed": false,
    "is_executing": true
   },
   "id": "b16f2d5431756d20"
  },
  {
   "cell_type": "code",
   "execution_count": null,
   "outputs": [],
   "source": [
    "# archive(Path(\"../checkpoints/dqn_12_layers\"))"
   ],
   "metadata": {
    "collapsed": false,
    "is_executing": true
   },
   "id": "441012f896177394"
  },
  {
   "cell_type": "code",
   "execution_count": null,
   "outputs": [],
   "source": [
    "# dqn.q_network(np.expand_dims(dqn.all_transitions[0].observation, axis=0))"
   ],
   "metadata": {
    "collapsed": false,
    "is_executing": true
   },
   "id": "d6a8aa08d54ff43d"
  },
  {
   "cell_type": "code",
   "execution_count": null,
   "outputs": [],
   "source": [
    "# transition_index, transition = \\\n",
    "# list(filter(lambda x: x[1].terminal and x[1].reward != -100, enumerate(dqn.all_transitions)))[0]\n",
    "# transition_index, transition"
   ],
   "metadata": {
    "collapsed": false,
    "is_executing": true
   },
   "id": "dea889c216e84169"
  },
  {
   "cell_type": "code",
   "execution_count": null,
   "outputs": [],
   "source": [
    "# dqn.q_network(np.expand_dims(transition.observation, axis=0))"
   ],
   "metadata": {
    "collapsed": false,
    "is_executing": true
   },
   "id": "eaa7892eb4294a3a"
  },
  {
   "cell_type": "code",
   "execution_count": null,
   "outputs": [],
   "source": [
    "# dqn.all_transitions[transition_index - 11]"
   ],
   "metadata": {
    "collapsed": false,
    "is_executing": true
   },
   "id": "a8c2f818ef3e9d6a"
  },
  {
   "cell_type": "code",
   "execution_count": null,
   "outputs": [],
   "source": [
    "# dqn.q_network(np.expand_dims(dqn.all_transitions[transition_index - 11].observation, axis=0))"
   ],
   "metadata": {
    "collapsed": false,
    "is_executing": true
   },
   "id": "b305fbd4ab23c1b6"
  },
  {
   "cell_type": "code",
   "execution_count": null,
   "outputs": [],
   "source": [
    "# env.close()"
   ],
   "metadata": {
    "collapsed": false,
    "is_executing": true
   },
   "id": "a7c78297b53b564f"
  },
  {
   "cell_type": "code",
   "execution_count": null,
   "outputs": [],
   "source": [
    "123"
   ],
   "metadata": {
    "collapsed": false,
    "is_executing": true
   },
   "id": "274f96f78b762173"
  },
  {
   "cell_type": "code",
   "execution_count": null,
   "outputs": [],
   "source": [],
   "metadata": {
    "collapsed": false,
    "is_executing": true
   },
   "id": "9e19f0d105cabfd"
  }
 ],
 "metadata": {
  "kernelspec": {
   "display_name": "Python 3",
   "language": "python",
   "name": "python3"
  },
  "language_info": {
   "codemirror_mode": {
    "name": "ipython",
    "version": 2
   },
   "file_extension": ".py",
   "mimetype": "text/x-python",
   "name": "python",
   "nbconvert_exporter": "python",
   "pygments_lexer": "ipython2",
   "version": "2.7.6"
  }
 },
 "nbformat": 4,
 "nbformat_minor": 5
}
