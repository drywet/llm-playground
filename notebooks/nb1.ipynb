{
 "cells": [
  {
   "cell_type": "code",
   "execution_count": 3,
   "outputs": [],
   "source": [
    "import numpy as np\n",
    "import tensorflow as tf"
   ],
   "metadata": {
    "collapsed": false,
    "ExecuteTime": {
     "end_time": "2023-08-18T16:11:31.007086700Z",
     "start_time": "2023-08-18T16:11:31.007086700Z"
    }
   },
   "id": "c9d113263e92b98"
  },
  {
   "cell_type": "code",
   "execution_count": 2,
   "outputs": [],
   "source": [
    "a = tf.Variable([[1, 2, 3], [4, 5, 6], [7, 8, 9]], shape=[None, 3])\n",
    "b = tf.Variable([[1, 1, 1], [2, 2, 2], [3, 3, 3]], shape=[None, 3])"
   ],
   "metadata": {
    "collapsed": false,
    "ExecuteTime": {
     "end_time": "2023-08-18T16:11:31.007086700Z",
     "start_time": "2023-08-18T16:11:24.488204900Z"
    }
   },
   "id": "da3acbed946c94ae"
  },
  {
   "cell_type": "code",
   "execution_count": 152,
   "outputs": [],
   "source": [
    "stacked = tf.stack([a, b], axis=1)"
   ],
   "metadata": {
    "collapsed": false,
    "ExecuteTime": {
     "end_time": "2023-08-14T19:20:11.651845400Z",
     "start_time": "2023-08-14T19:20:11.633219Z"
    }
   },
   "id": "a759c82dfca7427e"
  },
  {
   "cell_type": "code",
   "execution_count": 160,
   "outputs": [
    {
     "name": "stdout",
     "output_type": "stream",
     "text": [
      "WARNING:tensorflow:5 out of the last 5 calls to <function pfor.<locals>.f at 0x000001F76A0996C0> triggered tf.function retracing. Tracing is expensive and the excessive number of tracings could be due to (1) creating @tf.function repeatedly in a loop, (2) passing tensors with different shapes, (3) passing Python objects instead of tensors. For (1), please define your @tf.function outside of the loop. For (2), @tf.function has reduce_retracing=True option that can avoid unnecessary retracing. For (3), please refer to https://www.tensorflow.org/guide/function#controlling_retracing and https://www.tensorflow.org/api_docs/python/tf/function for  more details.\n"
     ]
    },
    {
     "data": {
      "text/plain": "<tf.Tensor: shape=(3, 3), dtype=int32, numpy=\narray([[1, 1, 1],\n       [2, 5, 6],\n       [7, 8, 9]])>"
     },
     "execution_count": 160,
     "metadata": {},
     "output_type": "execute_result"
    }
   ],
   "source": [
    "tf.vectorized_map(lambda x: tf.where(tf.vectorized_map(lambda v: v >= 5, x[0]), x[0], x[1]), stacked)"
   ],
   "metadata": {
    "collapsed": false,
    "ExecuteTime": {
     "end_time": "2023-08-14T20:26:59.341062500Z",
     "start_time": "2023-08-14T20:26:59.153924Z"
    }
   },
   "id": "346d741c529b210"
  },
  {
   "cell_type": "code",
   "execution_count": 175,
   "outputs": [],
   "source": [
    "a = tf.Variable(tf.fill((3,), np.NINF))"
   ],
   "metadata": {
    "collapsed": false,
    "ExecuteTime": {
     "end_time": "2023-08-14T20:53:08.752132100Z",
     "start_time": "2023-08-14T20:53:08.725785300Z"
    }
   },
   "id": "b0ace47028373ef1"
  },
  {
   "cell_type": "code",
   "execution_count": 176,
   "outputs": [
    {
     "data": {
      "text/plain": "<tf.Variable 'UnreadVariable' shape=(3,) dtype=float32, numpy=array([  1., -inf, -inf], dtype=float32)>"
     },
     "execution_count": 176,
     "metadata": {},
     "output_type": "execute_result"
    }
   ],
   "source": [
    "a[0].assign(1)"
   ],
   "metadata": {
    "collapsed": false,
    "ExecuteTime": {
     "end_time": "2023-08-14T20:53:09.435623400Z",
     "start_time": "2023-08-14T20:53:09.403480900Z"
    }
   },
   "id": "d2c440a499618cb0"
  },
  {
   "cell_type": "code",
   "execution_count": 177,
   "outputs": [],
   "source": [
    "a = tf.constant(a)"
   ],
   "metadata": {
    "collapsed": false,
    "ExecuteTime": {
     "end_time": "2023-08-14T20:53:10.067112200Z",
     "start_time": "2023-08-14T20:53:10.025094700Z"
    }
   },
   "id": "af6ccfd56abf1ef7"
  },
  {
   "cell_type": "code",
   "execution_count": 174,
   "outputs": [
    {
     "data": {
      "text/plain": "<tf.Tensor: shape=(3,), dtype=float32, numpy=array([  1., -inf, -inf], dtype=float32)>"
     },
     "execution_count": 174,
     "metadata": {},
     "output_type": "execute_result"
    }
   ],
   "source": [
    "a"
   ],
   "metadata": {
    "collapsed": false,
    "ExecuteTime": {
     "end_time": "2023-08-14T20:49:02.325706100Z",
     "start_time": "2023-08-14T20:49:02.290177200Z"
    }
   },
   "id": "6d3161b3f94ed351"
  },
  {
   "cell_type": "code",
   "execution_count": 14,
   "outputs": [],
   "source": [
    "import matplotlib as mpl\n",
    "import matplotlib.pyplot as plt\n",
    "import numpy as np"
   ],
   "metadata": {
    "collapsed": false,
    "ExecuteTime": {
     "end_time": "2023-08-16T20:26:10.852404300Z",
     "start_time": "2023-08-16T20:26:10.789350900Z"
    }
   },
   "id": "552c9ac73edc4a9"
  },
  {
   "cell_type": "code",
   "execution_count": 36,
   "outputs": [
    {
     "data": {
      "text/plain": "<Figure size 640x480 with 1 Axes>",
      "image/png": "[encoded data removed]"
     },
     "metadata": {},
     "output_type": "display_data"
    }
   ],
   "source": [
    "x = list(range(6))\n",
    "y1 = np.array([[1,2,3,4,5,6], [2,3,4,5,6,7]])\n",
    "color_map1 = mpl.colormaps['spring']\n",
    "color_map2 = mpl.colormaps['winter']\n",
    "for index, y in enumerate(y1):\n",
    "    plt.plot(x, y, color=color_map1(index / len(y1)))"
   ],
   "metadata": {
    "collapsed": false,
    "ExecuteTime": {
     "end_time": "2023-08-16T20:36:55.911254Z",
     "start_time": "2023-08-16T20:36:55.701425800Z"
    }
   },
   "id": "b047a4b97fe426ef"
  },
  {
   "cell_type": "code",
   "execution_count": 39,
   "outputs": [
    {
     "data": {
      "text/plain": "array([[ 1,  4,  7, 10],\n       [ 2,  5,  8, 11],\n       [ 3,  6,  9, 12]])"
     },
     "execution_count": 39,
     "metadata": {},
     "output_type": "execute_result"
    }
   ],
   "source": [
    "np.array([[1,2,3],[4,5,6],[7,8,9],[10,11,12]]).transpose()"
   ],
   "metadata": {
    "collapsed": false,
    "ExecuteTime": {
     "end_time": "2023-08-16T21:11:42.753886400Z",
     "start_time": "2023-08-16T21:11:42.694568400Z"
    }
   },
   "id": "6346148d00986b7a"
  },
  {
   "cell_type": "code",
   "execution_count": 42,
   "outputs": [
    {
     "data": {
      "text/plain": "<tf.Tensor: shape=(4,), dtype=float32, numpy=array([0.10153633, 0.1674051 , 0.27600434, 0.45505422], dtype=float32)>"
     },
     "execution_count": 42,
     "metadata": {},
     "output_type": "execute_result"
    }
   ],
   "source": [
    "tf.math.softmax([41.5,42,42.5,43])"
   ],
   "metadata": {
    "collapsed": false,
    "ExecuteTime": {
     "end_time": "2023-08-16T21:52:26.732019100Z",
     "start_time": "2023-08-16T21:52:26.668228800Z"
    }
   },
   "id": "d612500f29570263"
  },
  {
   "cell_type": "code",
   "execution_count": 11,
   "outputs": [
    {
     "data": {
      "text/plain": "[1, 4, 7]"
     },
     "execution_count": 11,
     "metadata": {},
     "output_type": "execute_result"
    }
   ],
   "source": [
    "a = [1,2,3,4,5,6,7,8,9]\n",
    "a[::3]"
   ],
   "metadata": {
    "collapsed": false,
    "ExecuteTime": {
     "end_time": "2023-08-18T17:01:31.608512100Z",
     "start_time": "2023-08-18T17:01:31.549262500Z"
    }
   },
   "id": "47213f302b2e3bc1"
  },
  {
   "cell_type": "code",
   "execution_count": 17,
   "outputs": [
    {
     "data": {
      "text/plain": "array([10., 11., 12., 13., 14., 15., 16., 17.])"
     },
     "execution_count": 17,
     "metadata": {},
     "output_type": "execute_result"
    }
   ],
   "source": [
    "b = np.linspace(10, 10+8-1, 8)\n",
    "b"
   ],
   "metadata": {
    "collapsed": false,
    "ExecuteTime": {
     "end_time": "2023-08-18T19:01:17.843813800Z",
     "start_time": "2023-08-18T19:01:17.765083600Z"
    }
   },
   "id": "77f1579f56589e60"
  },
  {
   "cell_type": "code",
   "execution_count": 18,
   "outputs": [],
   "source": [
    "a = np.zeros(2 + 8)\n",
    "a[0] = 1\n",
    "a[1] = 2\n",
    "a[2:] = b"
   ],
   "metadata": {
    "collapsed": false,
    "ExecuteTime": {
     "end_time": "2023-08-18T19:01:21.057961Z",
     "start_time": "2023-08-18T19:01:21.026645Z"
    }
   },
   "id": "cc696a5fae28e3e5"
  },
  {
   "cell_type": "code",
   "execution_count": 19,
   "outputs": [
    {
     "data": {
      "text/plain": "array([ 1.,  2., 10., 11., 12., 13., 14., 15., 16., 17.])"
     },
     "execution_count": 19,
     "metadata": {},
     "output_type": "execute_result"
    }
   ],
   "source": [
    "a"
   ],
   "metadata": {
    "collapsed": false,
    "ExecuteTime": {
     "end_time": "2023-08-18T19:01:22.036824100Z",
     "start_time": "2023-08-18T19:01:21.943965100Z"
    }
   },
   "id": "ef190e24005672bf"
  },
  {
   "cell_type": "code",
   "execution_count": 20,
   "outputs": [
    {
     "data": {
      "text/plain": "3"
     },
     "execution_count": 20,
     "metadata": {},
     "output_type": "execute_result"
    }
   ],
   "source": [
    "np.size((1,2,3))"
   ],
   "metadata": {
    "collapsed": false,
    "ExecuteTime": {
     "end_time": "2023-08-18T19:39:08.576811500Z",
     "start_time": "2023-08-18T19:39:08.521732400Z"
    }
   },
   "id": "33361bf5866175ea"
  },
  {
   "cell_type": "code",
   "execution_count": 36,
   "outputs": [
    {
     "data": {
      "text/plain": "array([[[ 1,  2],\n        [ 3,  4]],\n\n       [[ 5,  6],\n        [ 7,  8]],\n\n       [[ 9, 10],\n        [11, 12]]])"
     },
     "execution_count": 36,
     "metadata": {},
     "output_type": "execute_result"
    }
   ],
   "source": [
    "a = np.array([[[1,2],[3,4]],[[5,6],[7,8]],[[9,10],[11,12]]])\n",
    "a"
   ],
   "metadata": {
    "collapsed": false,
    "ExecuteTime": {
     "end_time": "2023-08-18T20:50:29.688400300Z",
     "start_time": "2023-08-18T20:50:29.659884600Z"
    }
   },
   "id": "6aa936a3a0e491d"
  },
  {
   "cell_type": "code",
   "execution_count": 38,
   "outputs": [
    {
     "data": {
      "text/plain": "array([[[ 1,  2],\n        [ 5,  6],\n        [ 9, 10]],\n\n       [[ 3,  4],\n        [ 7,  8],\n        [11, 12]]])"
     },
     "execution_count": 38,
     "metadata": {},
     "output_type": "execute_result"
    }
   ],
   "source": [
    "a.transpose((1, 0, 2))"
   ],
   "metadata": {
    "collapsed": false,
    "ExecuteTime": {
     "end_time": "2023-08-18T20:50:42.314210300Z",
     "start_time": "2023-08-18T20:50:42.252004900Z"
    }
   },
   "id": "c5d21e618edbaf40"
  },
  {
   "cell_type": "code",
   "execution_count": 39,
   "outputs": [
    {
     "data": {
      "text/plain": "[array([[1, 2],\n        [3, 4]]),\n array([[5, 6],\n        [7, 8]]),\n array([[ 9, 10],\n        [11, 12]])]"
     },
     "execution_count": 39,
     "metadata": {},
     "output_type": "execute_result"
    }
   ],
   "source": [
    "[b for b in a]"
   ],
   "metadata": {
    "collapsed": false,
    "ExecuteTime": {
     "end_time": "2023-08-18T20:50:51.975277100Z",
     "start_time": "2023-08-18T20:50:51.924726300Z"
    }
   },
   "id": "8791bfae469e9663"
  },
  {
   "cell_type": "code",
   "execution_count": 43,
   "outputs": [
    {
     "ename": "ValueError",
     "evalue": "setting an array element with a sequence. The requested array has an inhomogeneous shape after 2 dimensions. The detected shape was (2, 4) + inhomogeneous part.",
     "output_type": "error",
     "traceback": [
      "\u001B[1;31m---------------------------------------------------------------------------\u001B[0m",
      "\u001B[1;31mValueError\u001B[0m                                Traceback (most recent call last)",
      "Cell \u001B[1;32mIn[43], line 1\u001B[0m\n\u001B[1;32m----> 1\u001B[0m \u001B[43mnp\u001B[49m\u001B[38;5;241;43m.\u001B[39;49m\u001B[43marray\u001B[49m\u001B[43m(\u001B[49m\u001B[43m[\u001B[49m\u001B[43m[\u001B[49m\u001B[38;5;241;43m1\u001B[39;49m\u001B[43m,\u001B[49m\u001B[38;5;241;43m2\u001B[39;49m\u001B[43m,\u001B[49m\u001B[38;5;241;43m3\u001B[39;49m\u001B[43m,\u001B[49m\u001B[38;5;28;43;01mNone\u001B[39;49;00m\u001B[43m]\u001B[49m\u001B[43m,\u001B[49m\u001B[43m[\u001B[49m\u001B[38;5;241;43m4\u001B[39;49m\u001B[43m,\u001B[49m\u001B[38;5;241;43m5\u001B[39;49m\u001B[43m,\u001B[49m\u001B[38;5;241;43m6\u001B[39;49m\u001B[43m,\u001B[49m\u001B[43m[\u001B[49m\u001B[38;5;241;43m7\u001B[39;49m\u001B[43m,\u001B[49m\u001B[38;5;241;43m8\u001B[39;49m\u001B[43m,\u001B[49m\u001B[38;5;241;43m9\u001B[39;49m\u001B[43m]\u001B[49m\u001B[43m]\u001B[49m\u001B[43m]\u001B[49m\u001B[43m)\u001B[49m\u001B[38;5;241m.\u001B[39mtranspose((\u001B[38;5;241m1\u001B[39m,\u001B[38;5;241m0\u001B[39m))\n",
      "\u001B[1;31mValueError\u001B[0m: setting an array element with a sequence. The requested array has an inhomogeneous shape after 2 dimensions. The detected shape was (2, 4) + inhomogeneous part."
     ]
    }
   ],
   "source": [
    "np.array([[1,2,3,None],[4,5,6,[7,8,9]]]).transpose((1,0))"
   ],
   "metadata": {
    "collapsed": false,
    "ExecuteTime": {
     "end_time": "2023-08-18T21:34:51.876445300Z",
     "start_time": "2023-08-18T21:34:51.791486200Z"
    }
   },
   "id": "c6865df12ad159c6"
  },
  {
   "cell_type": "code",
   "execution_count": 45,
   "outputs": [],
   "source": [
    "a=[[None,None,None,[1,2,3]],\n",
    " [None,None,None,[4,5,6]],\n",
    " [None,None,None,[7,8,9]],]"
   ],
   "metadata": {
    "collapsed": false,
    "ExecuteTime": {
     "end_time": "2023-08-18T21:38:34.708007800Z",
     "start_time": "2023-08-18T21:38:34.646479800Z"
    }
   },
   "id": "75656cd21521f1ad"
  },
  {
   "cell_type": "code",
   "execution_count": 46,
   "outputs": [
    {
     "data": {
      "text/plain": "[[None, None, None],\n [None, None, None],\n [None, None, None],\n [[1, 2, 3], [4, 5, 6], [7, 8, 9]]]"
     },
     "execution_count": 46,
     "metadata": {},
     "output_type": "execute_result"
    }
   ],
   "source": [
    "[\n",
    "    [None, None, None],\n",
    "    [None, None, None],\n",
    "    [None, None, None],\n",
    "    [[1,2,3],[4,5,6],[7,8,9],],\n",
    "]"
   ],
   "metadata": {
    "collapsed": false,
    "ExecuteTime": {
     "end_time": "2023-08-18T21:38:38.193288500Z",
     "start_time": "2023-08-18T21:38:38.118116900Z"
    }
   },
   "id": "3160814de2bad101"
  },
  {
   "cell_type": "code",
   "execution_count": 51,
   "outputs": [
    {
     "ename": "ValueError",
     "evalue": "setting an array element with a sequence. The requested array has an inhomogeneous shape after 2 dimensions. The detected shape was (3, 4) + inhomogeneous part.",
     "output_type": "error",
     "traceback": [
      "\u001B[1;31m---------------------------------------------------------------------------\u001B[0m",
      "\u001B[1;31mValueError\u001B[0m                                Traceback (most recent call last)",
      "Cell \u001B[1;32mIn[51], line 1\u001B[0m\n\u001B[1;32m----> 1\u001B[0m \u001B[43mnp\u001B[49m\u001B[38;5;241;43m.\u001B[39;49m\u001B[43marray\u001B[49m\u001B[43m(\u001B[49m\u001B[43ma\u001B[49m\u001B[43m)\u001B[49m\n",
      "\u001B[1;31mValueError\u001B[0m: setting an array element with a sequence. The requested array has an inhomogeneous shape after 2 dimensions. The detected shape was (3, 4) + inhomogeneous part."
     ]
    }
   ],
   "source": [
    "np.array(a)"
   ],
   "metadata": {
    "collapsed": false,
    "ExecuteTime": {
     "end_time": "2023-08-18T21:40:35.672885Z",
     "start_time": "2023-08-18T21:40:35.493036200Z"
    }
   },
   "id": "671330a9ff4dc6a0"
  },
  {
   "cell_type": "code",
   "execution_count": 52,
   "outputs": [
    {
     "ename": "ValueError",
     "evalue": "setting an array element with a sequence. The requested array has an inhomogeneous shape after 1 dimensions. The detected shape was (2,) + inhomogeneous part.",
     "output_type": "error",
     "traceback": [
      "\u001B[1;31m---------------------------------------------------------------------------\u001B[0m",
      "\u001B[1;31mValueError\u001B[0m                                Traceback (most recent call last)",
      "Cell \u001B[1;32mIn[52], line 1\u001B[0m\n\u001B[1;32m----> 1\u001B[0m \u001B[43mnp\u001B[49m\u001B[38;5;241;43m.\u001B[39;49m\u001B[43marray\u001B[49m\u001B[43m(\u001B[49m\u001B[43m[\u001B[49m\u001B[38;5;28;43;01mNone\u001B[39;49;00m\u001B[43m,\u001B[49m\u001B[43m[\u001B[49m\u001B[38;5;241;43m1\u001B[39;49m\u001B[43m,\u001B[49m\u001B[38;5;241;43m2\u001B[39;49m\u001B[43m,\u001B[49m\u001B[38;5;241;43m3\u001B[39;49m\u001B[43m]\u001B[49m\u001B[43m]\u001B[49m\u001B[43m)\u001B[49m\n",
      "\u001B[1;31mValueError\u001B[0m: setting an array element with a sequence. The requested array has an inhomogeneous shape after 1 dimensions. The detected shape was (2,) + inhomogeneous part."
     ]
    }
   ],
   "source": [
    "np.array([None,[1,2,3]])"
   ],
   "metadata": {
    "collapsed": false,
    "ExecuteTime": {
     "end_time": "2023-08-18T21:47:57.761334Z",
     "start_time": "2023-08-18T21:47:57.615227300Z"
    }
   },
   "id": "27bb15a003fc1dcd"
  },
  {
   "cell_type": "code",
   "execution_count": 54,
   "outputs": [
    {
     "data": {
      "text/plain": "array([ 1,  2, 10, 11,  5,  6])"
     },
     "execution_count": 54,
     "metadata": {},
     "output_type": "execute_result"
    }
   ],
   "source": [
    "a=np.array([1,2,3,4,5,6])\n",
    "b=np.array([10,11])\n",
    "a[2:(2+len(b))] = b\n",
    "a"
   ],
   "metadata": {
    "collapsed": false,
    "ExecuteTime": {
     "end_time": "2023-08-18T21:59:14.875298600Z",
     "start_time": "2023-08-18T21:59:14.825835800Z"
    }
   },
   "id": "71e6ca37687e3704"
  },
  {
   "cell_type": "code",
   "execution_count": 63,
   "outputs": [
    {
     "data": {
      "text/plain": "array([2, 2])"
     },
     "execution_count": 63,
     "metadata": {},
     "output_type": "execute_result"
    }
   ],
   "source": [
    "np.max([[1,2],[2,1]], axis=0)"
   ],
   "metadata": {
    "collapsed": false,
    "ExecuteTime": {
     "end_time": "2023-08-18T22:37:11.949448900Z",
     "start_time": "2023-08-18T22:37:11.903274400Z"
    }
   },
   "id": "f585a19cb147b281"
  },
  {
   "cell_type": "code",
   "execution_count": 64,
   "outputs": [
    {
     "data": {
      "text/plain": "array([2, 3, 4])"
     },
     "execution_count": 64,
     "metadata": {},
     "output_type": "execute_result"
    }
   ],
   "source": [
    "np.array([1,2,3]) + np.array([1,1,1])"
   ],
   "metadata": {
    "collapsed": false,
    "ExecuteTime": {
     "end_time": "2023-08-18T22:40:51.530930600Z",
     "start_time": "2023-08-18T22:40:51.447150600Z"
    }
   },
   "id": "79d85b8b6fa4b560"
  },
  {
   "cell_type": "code",
   "execution_count": 65,
   "outputs": [],
   "source": [
    "a = np.array([1,2,3,4,5,6,7,8])"
   ],
   "metadata": {
    "collapsed": false,
    "ExecuteTime": {
     "end_time": "2023-08-18T22:50:49.366924500Z",
     "start_time": "2023-08-18T22:50:49.329354100Z"
    }
   },
   "id": "6adea660a03d0825"
  },
  {
   "cell_type": "code",
   "execution_count": 67,
   "outputs": [
    {
     "data": {
      "text/plain": "array([[3, 4],\n       [7, 8]])"
     },
     "execution_count": 67,
     "metadata": {},
     "output_type": "execute_result"
    }
   ],
   "source": [
    "a.reshape((2,4))[:, 2:]"
   ],
   "metadata": {
    "collapsed": false,
    "ExecuteTime": {
     "end_time": "2023-08-18T22:52:51.741074700Z",
     "start_time": "2023-08-18T22:52:51.692551Z"
    }
   },
   "id": "eaea47ca60d0f5f6"
  },
  {
   "cell_type": "code",
   "execution_count": null,
   "outputs": [],
   "source": [],
   "metadata": {
    "collapsed": false
   },
   "id": "d3d3cb2388d80f17"
  }
 ],
 "metadata": {
  "kernelspec": {
   "display_name": "Python 3",
   "language": "python",
   "name": "python3"
  },
  "language_info": {
   "codemirror_mode": {
    "name": "ipython",
    "version": 2
   },
   "file_extension": ".py",
   "mimetype": "text/x-python",
   "name": "python",
   "nbconvert_exporter": "python",
   "pygments_lexer": "ipython2",
   "version": "2.7.6"
  }
 },
 "nbformat": 4,
 "nbformat_minor": 5
}
