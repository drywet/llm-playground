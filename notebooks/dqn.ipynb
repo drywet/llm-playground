{
 "cells": [
  {
   "cell_type": "code",
   "execution_count": null,
   "outputs": [],
   "source": [
    "# !pip install -r../requirements.txt"
   ],
   "metadata": {
    "collapsed": false
   },
   "id": "initial_id"
  },
  {
   "cell_type": "code",
   "execution_count": null,
   "outputs": [],
   "source": [
    "%reload_ext autoreload\n",
    "%autoreload 1\n",
    "%aimport lib"
   ],
   "metadata": {
    "collapsed": false
   },
   "id": "7133a8acc04f3143"
  },
  {
   "cell_type": "code",
   "execution_count": 35,
   "outputs": [],
   "source": [
    "import gymnasium as gym\n",
    "\n",
    "from lib import DQN\n",
    "from lib import frames_to_gif_file"
   ],
   "metadata": {
    "collapsed": false,
    "ExecuteTime": {
     "end_time": "2023-08-12T17:37:04.540216300Z",
     "start_time": "2023-08-12T17:37:04.491755900Z"
    }
   },
   "id": "eb2eab9c1876e067"
  },
  {
   "cell_type": "code",
   "execution_count": null,
   "outputs": [],
   "source": [
    "env = gym.make(\"LunarLander-v2\", render_mode=\"rgb_array\")\n",
    "observation, info = env.reset()\n",
    "print(observation)\n",
    "print(info)"
   ],
   "metadata": {
    "collapsed": false
   },
   "id": "e9628c39cb6b9e46"
  },
  {
   "cell_type": "code",
   "execution_count": null,
   "outputs": [],
   "source": [
    "terminated, truncated = False, False\n",
    "i = 0\n",
    "frames = []\n",
    "env.reset()\n",
    "while not (terminated or truncated):\n",
    "    i += 1\n",
    "    # action = env.action_space.sample()\n",
    "    action = 0\n",
    "    observation, reward, terminated, truncated, info = env.step(action)\n",
    "    x, y, vx, vy, r, vr, landedl, landedr = observation\n",
    "    print(f\"\")\n",
    "    print(f\"i={i}\")\n",
    "    # print(f\"observation={observation}\")\n",
    "    print(f\"x={x}\")\n",
    "    print(f\"y={y}\")\n",
    "    # print(f\"vx={vx}\")\n",
    "    # print(f\"vy={vy}\")\n",
    "    # print(f\"r={r}\")\n",
    "    # print(f\"vr={vr}\")\n",
    "    # print(f\"landedl={landedl}\")\n",
    "    # print(f\"landedr={landedr}\")\n",
    "    print(f\"reward={reward}\")\n",
    "    # print(f\"info={info}\")\n",
    "    frames.append(env.render())\n",
    "\n",
    "    if terminated or truncated:\n",
    "        print(f\"terminated={terminated}\")\n",
    "        print(f\"truncated={truncated}\")\n",
    "        break\n",
    "\n",
    "# env.close()"
   ],
   "metadata": {
    "collapsed": false
   },
   "id": "d395470f6f9524e7"
  },
  {
   "cell_type": "code",
   "execution_count": null,
   "outputs": [],
   "source": [
    "# plt.imshow(frames[50])"
   ],
   "metadata": {
    "collapsed": false
   },
   "id": "63977d1444fb26f5"
  },
  {
   "cell_type": "code",
   "execution_count": null,
   "outputs": [],
   "source": [
    "# frames[0]"
   ],
   "metadata": {
    "collapsed": false
   },
   "id": "ccb87b232a436954"
  },
  {
   "cell_type": "code",
   "execution_count": null,
   "outputs": [],
   "source": [
    "frames_path = \"../tmp/dqn/frames.gif\"\n",
    "frames_to_gif_file(frames, frames_path)"
   ],
   "metadata": {
    "collapsed": false
   },
   "id": "7bfd6656d729d905"
  },
  {
   "cell_type": "markdown",
   "source": [
    "![frames](../tmp/dqn/frames.gif)"
   ],
   "metadata": {
    "collapsed": false
   },
   "id": "dbd87647f05f7bb1"
  },
  {
   "cell_type": "code",
   "execution_count": 32,
   "outputs": [],
   "source": [
    "dqn = DQN(env)"
   ],
   "metadata": {
    "collapsed": false,
    "ExecuteTime": {
     "end_time": "2023-08-12T17:34:06.689159100Z",
     "start_time": "2023-08-12T17:34:06.665991300Z"
    }
   },
   "id": "53cb6c88cf930aa9"
  },
  {
   "cell_type": "code",
   "execution_count": 54,
   "outputs": [
    {
     "name": "stdout",
     "output_type": "stream",
     "text": [
      "Session ended after 74 iterations: terminated\n"
     ]
    }
   ],
   "source": [
    "samples = dqn.play_one_session()"
   ],
   "metadata": {
    "collapsed": false,
    "ExecuteTime": {
     "end_time": "2023-08-12T17:49:24.901825600Z",
     "start_time": "2023-08-12T17:49:24.829881100Z"
    }
   },
   "id": "3d3806f63f81c8ab"
  },
  {
   "cell_type": "code",
   "execution_count": 55,
   "outputs": [
    {
     "ename": "AttributeError",
     "evalue": "'NoneType' object has no attribute 'shape'",
     "output_type": "error",
     "traceback": [
      "\u001B[1;31m---------------------------------------------------------------------------\u001B[0m",
      "\u001B[1;31mAttributeError\u001B[0m                            Traceback (most recent call last)",
      "Cell \u001B[1;32mIn[55], line 2\u001B[0m\n\u001B[0;32m      1\u001B[0m frames_path \u001B[38;5;241m=\u001B[39m \u001B[38;5;124m\"\u001B[39m\u001B[38;5;124m../tmp/dqn/frames.gif\u001B[39m\u001B[38;5;124m\"\u001B[39m\n\u001B[1;32m----> 2\u001B[0m \u001B[43mframes_to_gif_file\u001B[49m\u001B[43m(\u001B[49m\u001B[43m[\u001B[49m\u001B[43ms\u001B[49m\u001B[38;5;241;43m.\u001B[39;49m\u001B[43mframe\u001B[49m\u001B[43m \u001B[49m\u001B[38;5;28;43;01mfor\u001B[39;49;00m\u001B[43m \u001B[49m\u001B[43ms\u001B[49m\u001B[43m \u001B[49m\u001B[38;5;129;43;01min\u001B[39;49;00m\u001B[43m \u001B[49m\u001B[43msamples\u001B[49m\u001B[43m]\u001B[49m\u001B[43m,\u001B[49m\u001B[43m \u001B[49m\u001B[43mframes_path\u001B[49m\u001B[43m)\u001B[49m\n",
      "File \u001B[1;32mD:\\a\\llm-course\\notebooks\\lib.py:24\u001B[0m, in \u001B[0;36mframes_to_gif_file\u001B[1;34m(frames, output_file_path, fps)\u001B[0m\n\u001B[0;32m     22\u001B[0m \u001B[38;5;28;01massert\u001B[39;00m \u001B[38;5;124m'\u001B[39m\u001B[38;5;124m \u001B[39m\u001B[38;5;124m'\u001B[39m \u001B[38;5;129;01mnot\u001B[39;00m \u001B[38;5;129;01min\u001B[39;00m output_file_path\n\u001B[0;32m     23\u001B[0m \u001B[38;5;28;01massert\u001B[39;00m \u001B[38;5;28mlen\u001B[39m(frames) \u001B[38;5;241m>\u001B[39m \u001B[38;5;241m0\u001B[39m\n\u001B[1;32m---> 24\u001B[0m \u001B[38;5;28;01massert\u001B[39;00m \u001B[38;5;28mlen\u001B[39m(\u001B[43mframes\u001B[49m\u001B[43m[\u001B[49m\u001B[38;5;241;43m0\u001B[39;49m\u001B[43m]\u001B[49m\u001B[38;5;241;43m.\u001B[39;49m\u001B[43mshape\u001B[49m) \u001B[38;5;241m==\u001B[39m \u001B[38;5;241m3\u001B[39m\n\u001B[0;32m     25\u001B[0m width \u001B[38;5;241m=\u001B[39m frames[\u001B[38;5;241m0\u001B[39m]\u001B[38;5;241m.\u001B[39mshape[\u001B[38;5;241m1\u001B[39m]\n\u001B[0;32m     26\u001B[0m height \u001B[38;5;241m=\u001B[39m frames[\u001B[38;5;241m0\u001B[39m]\u001B[38;5;241m.\u001B[39mshape[\u001B[38;5;241m0\u001B[39m]\n",
      "\u001B[1;31mAttributeError\u001B[0m: 'NoneType' object has no attribute 'shape'"
     ]
    }
   ],
   "source": [
    "frames_path = \"../tmp/dqn/frames.gif\"\n",
    "frames_to_gif_file([s.frame for s in samples], frames_path)"
   ],
   "metadata": {
    "collapsed": false,
    "ExecuteTime": {
     "end_time": "2023-08-12T17:49:28.737587400Z",
     "start_time": "2023-08-12T17:49:28.668864600Z"
    }
   },
   "id": "889c44176e94d0e8"
  },
  {
   "cell_type": "markdown",
   "source": [
    "![frames](../tmp/dqn/frames.gif)"
   ],
   "metadata": {
    "collapsed": false
   },
   "id": "d7baba7c9d7c2551"
  },
  {
   "cell_type": "markdown",
   "source": [],
   "metadata": {
    "collapsed": false
   },
   "id": "4336f73bc86f3d0e"
  },
  {
   "cell_type": "code",
   "execution_count": 38,
   "outputs": [],
   "source": [],
   "metadata": {
    "collapsed": false,
    "ExecuteTime": {
     "end_time": "2023-08-12T17:41:15.981947900Z",
     "start_time": "2023-08-12T17:41:15.947711800Z"
    }
   },
   "id": "5cefa71b36bf50a1"
  },
  {
   "cell_type": "code",
   "execution_count": 39,
   "outputs": [],
   "source": [
    "# env.close()"
   ],
   "metadata": {
    "collapsed": false,
    "ExecuteTime": {
     "end_time": "2023-08-12T17:41:16.896329100Z",
     "start_time": "2023-08-12T17:41:16.853678Z"
    }
   },
   "id": "a7c78297b53b564f"
  }
 ],
 "metadata": {
  "kernelspec": {
   "display_name": "Python 3",
   "language": "python",
   "name": "python3"
  },
  "language_info": {
   "codemirror_mode": {
    "name": "ipython",
    "version": 2
   },
   "file_extension": ".py",
   "mimetype": "text/x-python",
   "name": "python",
   "nbconvert_exporter": "python",
   "pygments_lexer": "ipython2",
   "version": "2.7.6"
  }
 },
 "nbformat": 4,
 "nbformat_minor": 5
}
